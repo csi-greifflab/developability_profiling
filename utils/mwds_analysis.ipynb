{
 "cells": [
  {
   "cell_type": "code",
   "execution_count": 2,
   "metadata": {},
   "outputs": [],
   "source": [
    "import pandas as pd\n",
    "import os\n",
    "\n",
    "import ast\n",
    "import subprocess as sp\n",
    "\n",
    "from generic import relative_path"
   ]
  },
  {
   "cell_type": "code",
   "execution_count": 7,
   "metadata": {},
   "outputs": [],
   "source": [
    "file_loc = relative_path('data/developability_mwds_analysis.csv')\n",
    "mwds_an = pd.read_csv(file_loc)"
   ]
  },
  {
   "cell_type": "code",
   "execution_count": 9,
   "metadata": {},
   "outputs": [
    {
     "data": {
      "text/plain": [
       "array([list(['AbStruc_loops', 'AbStruc_beta_bridges', 'AbStruc_beta_strands', 'AbStruc_threeten_helices', 'AbStruc_alpha_helices', 'AbStruc_pi_helices', 'AbStruc_beta_bends', 'AbStruc_beta_turns', 'AbStruc_carbonyl_interactions', 'AbStruc_steric_clashes', 'AbStruc_covbonds', 'AbStruc_hbonds', 'AbStruc_ibonds', 'AbStruc_phi_angle', 'AbStruc_psi_angle', 'AbStruc_vdw_interactions', 'AbStruc_weak_hbonds', 'AbStruc_folding_energy', 'AbStruc_free_cys', 'AbStruc_cys_bridges', 'AbStruc_pcharge_hetrgen', 'AbStruc_ncharge_hetrgen']),\n",
       "       list(['AbChain_aromatic_content', 'AbChain_hmom', 'AbChain_solubility', 'AbChain_instaindex', 'AbChain_min_rank', 'AbChain_immunopeptide_regions_span']),\n",
       "       list(['AbChain_hmom', 'AbChain_solubility', 'AbChain_instaindex', 'AbChain_acidic_content', 'AbChain_immunopeptide_regions_span']),\n",
       "       list(['AbChain_aromatic_content', 'AbChain_hmom', 'AbChain_solubility', 'AbChain_instaindex', 'AbChain_min_rank', 'AbChain_immunopeptide_regions_span']),\n",
       "       list(['AbChain_aromatic_content', 'AbChain_hmom', 'AbChain_solubility', 'AbChain_instaindex', 'AbChain_min_rank', 'AbChain_immunopeptide_regions_span']),\n",
       "       list(['AbChain_aromatic_content', 'AbChain_hmom', 'AbChain_solubility', 'AbChain_instaindex', 'AbChain_min_rank', 'AbChain_num_strong_binders', 'AbChain_num_weak_binders', 'AbChain_full_average_rank', 'AbChain_immunopeptide_regions_span']),\n",
       "       list(['AbChain_mw', 'AbChain_aromatic_content', 'AbChain_hmom', 'AbChain_solubility', 'AbChain_instaindex', 'AbChain_min_rank', 'AbChain_num_strong_binders', 'AbChain_immunopeptide_regions_span']),\n",
       "       list(['AbChain_hmom', 'AbChain_solubility', 'AbChain_instaindex', 'AbChain_acidic_content', 'AbChain_immunopeptide_regions_span']),\n",
       "       list(['AbChain_aromatic_content', 'AbChain_hmom', 'AbChain_solubility', 'AbChain_instaindex', 'AbChain_min_rank', 'AbChain_immunopeptide_regions_span', 'AbStruc_loops', 'AbStruc_beta_bridges', 'AbStruc_beta_strands', 'AbStruc_alpha_helices', 'AbStruc_pi_helices', 'AbStruc_beta_bends', 'AbStruc_carbonyl_interactions', 'AbStruc_steric_clashes', 'AbStruc_covbonds', 'AbStruc_hbonds', 'AbStruc_ibonds', 'AbStruc_phi_angle', 'AbStruc_psi_angle', 'AbStruc_vdw_interactions', 'AbStruc_weak_hbonds', 'AbStruc_folding_energy', 'AbStruc_cys_bridges', 'AbStruc_pcharge_hetrgen', 'AbStruc_ncharge_hetrgen']),\n",
       "       list(['AbChain_hmom', 'AbChain_solubility', 'AbChain_instaindex', 'AbChain_acidic_content', 'AbChain_immunopeptide_regions_span', 'AbStruc_loops', 'AbStruc_beta_bridges', 'AbStruc_threeten_helices', 'AbStruc_alpha_helices', 'AbStruc_pi_helices', 'AbStruc_beta_bends', 'AbStruc_beta_turns', 'AbStruc_carbonyl_interactions', 'AbStruc_steric_clashes', 'AbStruc_covbonds', 'AbStruc_hbonds', 'AbStruc_ibonds', 'AbStruc_phi_angle', 'AbStruc_psi_angle', 'AbStruc_vdw_interactions', 'AbStruc_weak_hbonds', 'AbStruc_folding_energy', 'AbStruc_cys_bridges', 'AbStruc_pcharge_hetrgen', 'AbStruc_ncharge_hetrgen']),\n",
       "       list(['AbChain_aromatic_content', 'AbChain_hmom', 'AbChain_solubility', 'AbChain_instaindex', 'AbChain_min_rank', 'AbChain_immunopeptide_regions_span', 'AbStruc_loops', 'AbStruc_beta_bridges', 'AbStruc_beta_strands', 'AbStruc_threeten_helices', 'AbStruc_alpha_helices', 'AbStruc_beta_bends', 'AbStruc_beta_turns', 'AbStruc_carbonyl_interactions', 'AbStruc_steric_clashes', 'AbStruc_covbonds', 'AbStruc_hbonds', 'AbStruc_ibonds', 'AbStruc_phi_angle', 'AbStruc_psi_angle', 'AbStruc_vdw_interactions', 'AbStruc_folding_energy', 'AbStruc_cys_bridges', 'AbStruc_pcharge_hetrgen', 'AbStruc_ncharge_hetrgen']),\n",
       "       list(['AbChain_aromatic_content', 'AbChain_hmom', 'AbChain_solubility', 'AbChain_instaindex', 'AbChain_min_rank', 'AbChain_immunopeptide_regions_span', 'AbStruc_loops', 'AbStruc_beta_bridges', 'AbStruc_beta_strands', 'AbStruc_alpha_helices', 'AbStruc_pi_helices', 'AbStruc_beta_bends', 'AbStruc_carbonyl_interactions', 'AbStruc_steric_clashes', 'AbStruc_covbonds', 'AbStruc_hbonds', 'AbStruc_ibonds', 'AbStruc_phi_angle', 'AbStruc_psi_angle', 'AbStruc_vdw_interactions', 'AbStruc_weak_hbonds', 'AbStruc_folding_energy', 'AbStruc_cys_bridges', 'AbStruc_pcharge_hetrgen', 'AbStruc_ncharge_hetrgen']),\n",
       "       list(['AbChain_aromatic_content', 'AbChain_hmom', 'AbChain_solubility', 'AbChain_instaindex', 'AbChain_min_rank', 'AbChain_num_strong_binders', 'AbChain_num_weak_binders', 'AbChain_full_average_rank', 'AbChain_immunopeptide_regions_span', 'AbStruc_loops', 'AbStruc_beta_bridges', 'AbStruc_beta_strands', 'AbStruc_threeten_helices', 'AbStruc_alpha_helices', 'AbStruc_pi_helices', 'AbStruc_beta_bends', 'AbStruc_beta_turns', 'AbStruc_carbonyl_interactions', 'AbStruc_steric_clashes', 'AbStruc_covbonds', 'AbStruc_hbonds', 'AbStruc_ibonds', 'AbStruc_phi_angle', 'AbStruc_psi_angle', 'AbStruc_vdw_interactions', 'AbStruc_folding_energy', 'AbStruc_free_cys', 'AbStruc_pcharge_hetrgen', 'AbStruc_ncharge_hetrgen']),\n",
       "       list(['AbChain_mw', 'AbChain_aromatic_content', 'AbChain_hmom', 'AbChain_solubility', 'AbChain_instaindex', 'AbChain_min_rank', 'AbChain_num_strong_binders', 'AbChain_immunopeptide_regions_span', 'AbStruc_loops', 'AbStruc_beta_strands', 'AbStruc_threeten_helices', 'AbStruc_alpha_helices', 'AbStruc_pi_helices', 'AbStruc_carbonyl_interactions', 'AbStruc_steric_clashes', 'AbStruc_covbonds', 'AbStruc_hbonds', 'AbStruc_ibonds', 'AbStruc_phi_angle', 'AbStruc_psi_angle', 'AbStruc_vdw_interactions', 'AbStruc_weak_hbonds', 'AbStruc_folding_energy', 'AbStruc_free_cys', 'AbStruc_pcharge_hetrgen', 'AbStruc_ncharge_hetrgen']),\n",
       "       list(['AbChain_hmom', 'AbChain_solubility', 'AbChain_instaindex', 'AbChain_acidic_content', 'AbChain_immunopeptide_regions_span', 'AbStruc_loops', 'AbStruc_beta_bridges', 'AbStruc_beta_strands', 'AbStruc_threeten_helices', 'AbStruc_alpha_helices', 'AbStruc_pi_helices', 'AbStruc_beta_bends', 'AbStruc_beta_turns', 'AbStruc_carbonyl_interactions', 'AbStruc_steric_clashes', 'AbStruc_covbonds', 'AbStruc_hbonds', 'AbStruc_ibonds', 'AbStruc_phi_angle', 'AbStruc_psi_angle', 'AbStruc_vdw_interactions', 'AbStruc_weak_hbonds', 'AbStruc_folding_energy', 'AbStruc_cys_bridges', 'AbStruc_pcharge_hetrgen', 'AbStruc_ncharge_hetrgen']),\n",
       "       list(['AbStruc_loops', 'AbStruc_beta_bridges', 'AbStruc_beta_strands', 'AbStruc_alpha_helices', 'AbStruc_pi_helices', 'AbStruc_beta_bends', 'AbStruc_carbonyl_interactions', 'AbStruc_steric_clashes', 'AbStruc_covbonds', 'AbStruc_hbonds', 'AbStruc_ibonds', 'AbStruc_phi_angle', 'AbStruc_psi_angle', 'AbStruc_vdw_interactions', 'AbStruc_weak_hbonds', 'AbStruc_folding_energy', 'AbStruc_free_cys', 'AbStruc_cys_bridges', 'AbStruc_pcharge_hetrgen', 'AbStruc_ncharge_hetrgen']),\n",
       "       list(['AbStruc_loops', 'AbStruc_beta_bridges', 'AbStruc_beta_strands', 'AbStruc_threeten_helices', 'AbStruc_alpha_helices', 'AbStruc_pi_helices', 'AbStruc_beta_bends', 'AbStruc_beta_turns', 'AbStruc_carbonyl_interactions', 'AbStruc_steric_clashes', 'AbStruc_covbonds', 'AbStruc_hbonds', 'AbStruc_ibonds', 'AbStruc_phi_angle', 'AbStruc_psi_angle', 'AbStruc_vdw_interactions', 'AbStruc_weak_hbonds', 'AbStruc_folding_energy', 'AbStruc_free_cys', 'AbStruc_cys_bridges', 'AbStruc_pcharge_hetrgen', 'AbStruc_ncharge_hetrgen']),\n",
       "       list(['AbStruc_loops', 'AbStruc_beta_bridges', 'AbStruc_beta_strands', 'AbStruc_threeten_helices', 'AbStruc_alpha_helices', 'AbStruc_beta_bends', 'AbStruc_beta_turns', 'AbStruc_carbonyl_interactions', 'AbStruc_steric_clashes', 'AbStruc_covbonds', 'AbStruc_hbonds', 'AbStruc_ibonds', 'AbStruc_phi_angle', 'AbStruc_psi_angle', 'AbStruc_vdw_interactions', 'AbStruc_folding_energy', 'AbStruc_free_cys', 'AbStruc_cys_bridges', 'AbStruc_pcharge_hetrgen', 'AbStruc_ncharge_hetrgen']),\n",
       "       list(['AbStruc_loops', 'AbStruc_beta_bridges', 'AbStruc_beta_strands', 'AbStruc_alpha_helices', 'AbStruc_pi_helices', 'AbStruc_beta_bends', 'AbStruc_carbonyl_interactions', 'AbStruc_steric_clashes', 'AbStruc_covbonds', 'AbStruc_hbonds', 'AbStruc_ibonds', 'AbStruc_phi_angle', 'AbStruc_psi_angle', 'AbStruc_vdw_interactions', 'AbStruc_weak_hbonds', 'AbStruc_folding_energy', 'AbStruc_free_cys', 'AbStruc_cys_bridges', 'AbStruc_pcharge_hetrgen', 'AbStruc_ncharge_hetrgen']),\n",
       "       list(['AbStruc_loops', 'AbStruc_beta_bridges', 'AbStruc_beta_strands', 'AbStruc_threeten_helices', 'AbStruc_alpha_helices', 'AbStruc_pi_helices', 'AbStruc_beta_bends', 'AbStruc_beta_turns', 'AbStruc_carbonyl_interactions', 'AbStruc_steric_clashes', 'AbStruc_covbonds', 'AbStruc_hbonds', 'AbStruc_ibonds', 'AbStruc_phi_angle', 'AbStruc_psi_angle', 'AbStruc_vdw_interactions', 'AbStruc_folding_energy', 'AbStruc_free_cys', 'AbStruc_cys_bridges', 'AbStruc_pcharge_hetrgen', 'AbStruc_ncharge_hetrgen']),\n",
       "       list(['AbStruc_loops', 'AbStruc_beta_strands', 'AbStruc_threeten_helices', 'AbStruc_alpha_helices', 'AbStruc_pi_helices', 'AbStruc_carbonyl_interactions', 'AbStruc_steric_clashes', 'AbStruc_covbonds', 'AbStruc_hbonds', 'AbStruc_ibonds', 'AbStruc_phi_angle', 'AbStruc_psi_angle', 'AbStruc_vdw_interactions', 'AbStruc_weak_hbonds', 'AbStruc_folding_energy', 'AbStruc_free_cys', 'AbStruc_cys_bridges', 'AbStruc_pcharge_hetrgen', 'AbStruc_ncharge_hetrgen'])],\n",
       "      dtype=object)"
      ]
     },
     "execution_count": 9,
     "metadata": {},
     "output_type": "execute_result"
    }
   ],
   "source": [
    "(\"[\" + mwds_an[mwds_an['subset_threshold'].str.contains('human_0.6')][' isolated_nodes'] + \"]\").apply(ast.literal_eval).values"
   ]
  },
  {
   "cell_type": "code",
   "execution_count": 11,
   "metadata": {},
   "outputs": [],
   "source": [
    "list_mwds_1 = (\"[\" + mwds_an[mwds_an['subset_threshold'] == 'AbChStruc_fv_IgG_human_0.6'][' dominating_set'] + \"]\").apply(ast.literal_eval).values\n",
    "list_mwds_2 = (\"[\" + mwds_an[mwds_an['subset_threshold'] == 'AbChStruc_fv_IgG_human_0.6'][' isolated_nodes'] + \"]\").apply(ast.literal_eval).values\n",
    "list_mwds_3 = (\"[\" + mwds_an[mwds_an['subset_threshold'] == 'AbChStruc_fv_IgG_human_0.6'][' doublets'] + \"]\").apply(ast.literal_eval).values"
   ]
  },
  {
   "cell_type": "code",
   "execution_count": 12,
   "metadata": {},
   "outputs": [],
   "source": [
    "ext_mwds = list_mwds_1[0] + list_mwds_2[0] + list(map(lambda x: sorted(list(x))[0], list_mwds_3[0]))\n",
    "ext_mwds"
   ]
  }
 ],
 "metadata": {
  "kernelspec": {
   "display_name": "Python 3.9.10 64-bit",
   "language": "python",
   "name": "python3"
  },
  "language_info": {
   "codemirror_mode": {
    "name": "ipython",
    "version": 3
   },
   "file_extension": ".py",
   "mimetype": "text/x-python",
   "name": "python",
   "nbconvert_exporter": "python",
   "pygments_lexer": "ipython3",
   "version": "3.7.10"
  },
  "orig_nbformat": 4,
  "vscode": {
   "interpreter": {
    "hash": "949777d72b0d2535278d3dc13498b2535136f6dfe0678499012e853ee9abcab1"
   }
  }
 },
 "nbformat": 4,
 "nbformat_minor": 2
}
