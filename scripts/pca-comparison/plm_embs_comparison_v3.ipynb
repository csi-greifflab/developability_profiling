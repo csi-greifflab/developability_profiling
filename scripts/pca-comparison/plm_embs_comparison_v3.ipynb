{
 "cells": [
  {
   "cell_type": "code",
   "execution_count": 1,
   "metadata": {},
   "outputs": [
    {
     "name": "stderr",
     "output_type": "stream",
     "text": [
      "2023-11-04 18:25:08.447685: I tensorflow/core/util/util.cc:169] oneDNN custom operations are on. You may see slightly different numerical results due to floating-point round-off errors from different computation orders. To turn them off, set the environment variable `TF_ENABLE_ONEDNN_OPTS=0`.\n"
     ]
    }
   ],
   "source": [
    "import numpy as np\n",
    "import pandas as pd\n",
    "from pandas.api.types import is_numeric_dtype\n",
    "import ast\n",
    "from textwrap import wrap\n",
    "\n",
    "import matplotlib as mpl\n",
    "import matplotlib.pyplot as plt\n",
    "\n",
    "import sklearn as sk\n",
    "# from dask_ml.decomposition import PCA\n",
    "from umap.umap_ import UMAP\n",
    "\n",
    "import tensorflow as tf\n",
    "from tensorflow import keras\n",
    "from tensorboard.plugins import projector\n",
    "\n",
    "import os\n",
    "from os.path import join\n",
    "\n",
    "import multiprocessing as mp\n",
    "from multiprocessing import Manager\n",
    "\n",
    "import traceback\n",
    "\n",
    "import sklearn as sk\n",
    "from sklearn.pipeline import make_pipeline\n",
    "import scipy as sp\n",
    "from tqdm.auto import tqdm\n",
    "\n",
    "import pickle as pkl\n",
    "\n",
    "import joblib"
   ]
  },
  {
   "cell_type": "code",
   "execution_count": 2,
   "metadata": {},
   "outputs": [],
   "source": [
    "import sys\n",
    "sys.path.append(\"../../\")\n",
    "\n",
    "# Useful for Pylance\n",
    "from utils import *\n",
    "\n",
    "import utils\n",
    "utils.refresh(sys.modules[__name__])"
   ]
  },
  {
   "cell_type": "code",
   "execution_count": 22,
   "metadata": {},
   "outputs": [],
   "source": [
    "def incrementally_retrieve_distr_array(da_arr_graph):\n",
    "    da_arr = da_arr_graph.persist(optimize_graph=True)\n",
    "    assert len(da_arr) >= 1, \"Distributed array has to have at least 1 dimension\"\n",
    "\n",
    "    np_arr = np.zeros(da_arr.shape)\n",
    "    bookmarks = np.cumsum((0,) + da_arr.chunks[0])\n",
    "\n",
    "    for chk_start, chk_end in zip(bookmarks[:-1], bookmarks[1:]):\n",
    "        np_arr[chk_start:chk_end] = da_arr[chk_start:chk_end].compute()\n",
    "\n",
    "    return np_arr\n",
    "def log_query(embeddings_model_name, compression, query, query_idxs, logfile_name, logfile_dir=\"logs/\"):\n",
    "    log_filepath = os.path.join(logfile_dir, logfile_name)\n",
    "\n",
    "    if os.path.exists(log_filepath):\n",
    "        queries = pd.read_csv(log_filepath, index_col=0, sep=\";\")\n",
    "    else:\n",
    "        queries = pd.DataFrame([], index=pd.RangeIndex(0), columns=['embeddings_model_name', 'compression', 'query', 'query_idxs'])\n",
    "    \n",
    "    cur_query_num = queries.shape[0]\n",
    "    queries = pd.concat([queries, pd.DataFrame({'embeddings_model_name': [embeddings_model_name], 'compression': [compression], 'query': [query], 'query_idxs': [list(query_idxs)]})], ignore_index=True)\n",
    "\n",
    "    queries.to_csv(log_filepath, sep=\";\")\n",
    "\n",
    "    return cur_query_num\n",
    "def load_query_cache(logfile_name, logfile_dir):\n",
    "    cache = pd.read_csv(os.path.join(logfile_dir, logfile_name), sep=\";\")\n",
    "    cache['query_idxs'] = cache['query_idxs'].apply(ast.literal_eval)\n",
    "\n",
    "    return cache\n",
    "def search_query_cache(embeddings_model_name, compression, target_query_idxs, logfile_name, logfile_dir=\"logs/\"):\n",
    "    if not os.path.exists(os.path.join(logfile_dir, logfile_name)):\n",
    "        return None\n",
    "\n",
    "    cache = load_query_cache(logfile_name, logfile_dir)\n",
    "    \n",
    "    hits_mask = cache.apply(lambda x: x['embeddings_model_name'] == embeddings_model_name and \n",
    "            x['compression'] == compression and \n",
    "            len(x['query_idxs']) == target_query_idxs.shape[0] and\n",
    "            (np.array(x['query_idxs']) == target_query_idxs).all()\n",
    "        , axis=1)\n",
    "\n",
    "    if hits_mask.shape[0] == 0:\n",
    "        return None\n",
    "\n",
    "    hits_num = hits_mask.sum()\n",
    "    if hits_num == 0:\n",
    "        info(\"Query not found in cache\")\n",
    "        return None\n",
    "    elif hits_num > 1:\n",
    "        warn(\"Multiple queries in cache match the desired one. Recomputing a fresh query\")\n",
    "        return None\n",
    "    else:\n",
    "        cached_query = cache[hits_mask]\n",
    "        info(f\"Query found in cache (#{cached_query.iloc[0].name}): '{cached_query.iloc[0]['query']}'\")\n",
    "        return cached_query.iloc[0].name\n",
    "def resolve_query(embeddings_model_name, compression, query_statement, labels, logfile_name):\n",
    "    group_idxs = labels.query(query_statement).index.values\n",
    "    info(\"Selected\", f\"{np.round(group_idxs.shape[0] / labels.shape[0] * 100, 2)}%\", \"of samples\", f\"({group_idxs.shape[0]})\")\n",
    "\n",
    "    cached_query_num = search_query_cache(embeddings_model_name, compression, group_idxs, logfile_name)\n",
    "\n",
    "    if cached_query_num is None:\n",
    "        query_num = log_query(embeddings_model_name, compression, query_statement, group_idxs, logfile_name)\n",
    "        info(f\"Current query registered as #{query_num}\")\n",
    "        return query_num, True, group_idxs\n",
    "    else:\n",
    "        return cached_query_num, False, group_idxs\n",
    "def resolve_compression(orig_dataset_name, embeddings_model_name, compression, logfile_name, logfile_dir='logs/'):\n",
    "    cache = load_query_cache(logfile_name, logfile_dir)\n",
    "\n",
    "    in_cache = cache.apply(lambda x: x['embeddings_model_name'] == embeddings_model_name and x['compression'] == compression, axis=1).sum() > 0 \n",
    "    in_directory = os.path.exists(os.path.join(get_dataset_dir(orig_dataset_name), f\"{orig_dataset_name}_{embeddings_model_name}_{compression}.npy\"))\n",
    "\n",
    "    if in_cache and in_directory:\n",
    "        info(\"Found known compressed labels\")\n",
    "        return True\n",
    "    elif in_directory:\n",
    "        info(\"Found new compressed labels (not yet in cache)\")\n",
    "        return True\n",
    "    else:\n",
    "        return False\n",
    "def compute_query(orig_dataset_name, embeddings_model_name, compression, query, labels, logfile_name=\"pca_developability_v2_queries.log\"):\n",
    "    query_num, _, query_idxs = resolve_query(embeddings_model_name, compression, query, labels, logfile_name)\n",
    "\n",
    "    is_known_compression = resolve_compression(orig_dataset_name, embeddings_model_name, compression, logfile_name)\n",
    "\n",
    "    if is_known_compression:\n",
    "        info(\"Computing query from compressed embeddings\")\n",
    "        compr_embs = np.load(os.path.join(get_dataset_dir(orig_dataset_name), f\"{orig_dataset_name}_{embeddings_model_name}_{compression}.npy\"))\n",
    "        query_embs = compr_embs[query_idxs]\n",
    "    elif 'launch_cluster' in globals():\n",
    "        info(\"Computing the query from uncompressed embeddings. Will use a cluster (sit down and enjoy the ride!)\")\n",
    "        cfg_filepath = \"compute-infrastructure.cfg\"\n",
    "        cluster, client = launch_cluster(cfg_filepath, 45)\n",
    "        lazy_embs = load_distributed_dataset(orig_dataset_name, compression='uncompressed', cfg_filepath=cfg_filepath, embeddings_model_name=embeddings_model_name)\n",
    "        \n",
    "        info(\"Initiating compression of embeddings...\")\n",
    "        lazy_compr_embs = reduce_embs(lazy_embs, strategy=compression)\n",
    "\n",
    "        info(\"Triggering distributed compression of embeddings...\")\n",
    "        compr_embs = incrementally_retrieve_distr_array(lazy_compr_embs.rechunk())\n",
    "        info(\"Result collected\")\n",
    "\n",
    "        client.close()\n",
    "        cluster.close()\n",
    "\n",
    "        info(\"Caching result of computation...\")\n",
    "        np.save(os.path.join(get_dataset_dir(orig_dataset_name), f\"{orig_dataset_name}_{embeddings_model_name}_{compression}.npy\"), compr_embs)\n",
    "\n",
    "        query_embs = compr_embs[query_idxs]\n",
    "    else:\n",
    "        info(\"Cluster capabilities not found. Reverting to local computation\")\n",
    "        embs, _, _ = load_dataset(embeddings_model_name, orig_dataset_name, None, ['sequence'], compression=\"uncompressed\", is_split=True, preview=False)\n",
    "\n",
    "        info(\"Compressing embeddings...\")\n",
    "        compr_embs = reduce_embs(embs['sequence'], strategy=compression)\n",
    "\n",
    "        info(\"Caching compressed embeddings...\")\n",
    "        np.save(os.path.join(get_dataset_dir(orig_dataset_name), f\"{orig_dataset_name}_{embeddings_model_name}_{compression}.npy\"), compr_embs)\n",
    "\n",
    "        query_embs = compr_embs[query_idxs]\n",
    "\n",
    "    info(\"Caching queried embeddings...\")\n",
    "    np.save(os.path.join(get_dataset_dir(orig_dataset_name), f\"{orig_dataset_name}_{embeddings_model_name}_query-{query_num}_{compression}.npy\"), query_embs)\n",
    "\n",
    "    query_labels = labels.loc[query_idxs]\n",
    "\n",
    "    return query_embs, query_labels, query_num\n",
    "class LazyEmbeddings:\n",
    "    def __init__(self, orig_dataset_name, embeddings_model_name, compression_method, labels):\n",
    "        self.orig_dataset_name = orig_dataset_name\n",
    "        self.embeddings_model_name = embeddings_model_name\n",
    "        self.compression = compression_method\n",
    "        self.orig_labels = labels\n",
    "\n",
    "        self.dataset_labels = None\n",
    "        self.dataset_embs = None\n",
    "        \n",
    "        self.query = None\n",
    "        self.query_num = None\n",
    "        self.query_embs = None\n",
    "        self.query_labels = None\n",
    "\n",
    "    def _check_computation(self):\n",
    "        if self.query is None or self.query_embs is None:\n",
    "            raise ValueError(\"Embeddings must be queried in order for them to be actually computed\")\n",
    "\n",
    "    def compute(self, query):\n",
    "        self.query = query\n",
    "        self.dataset_embs, self.dataset_labels, self.query_num = compute_query(self.orig_dataset_name, self.embeddings_model_name, self.compression, query, self.orig_labels, logfile_name=f\"pca_{self.orig_dataset_name}_{self.embeddings_model_name}_{self.compression}_queries.log\")\n",
    "\n",
    "        return self\n",
    "\n",
    "    def _split(embs, labels, split):\n",
    "        if split is None:\n",
    "            return embs, labels\n",
    "        else:\n",
    "             return embs[split], labels.reset_index().loc[split]\n",
    "\n",
    "    def split(self, split=None, copy=False):\n",
    "        if copy:\n",
    "            _embs, _labels = LazyEmbeddings._split(self.dataset_embs, self.dataset_labels, split)\n",
    "\n",
    "            # TODO: Refactor\n",
    "            other = LazyEmbeddings(self.orig_dataset_name, self.embeddings_model_name, self.compression, self.orig_labels)\n",
    "        \n",
    "            other.query = self.query\n",
    "            other.query_num = self.query_num\n",
    "\n",
    "            other.dataset_labels = _labels\n",
    "            other.dataset_embs = _embs\n",
    "            \n",
    "            other.split(copy=False)\n",
    "\n",
    "            return other\n",
    "        else:\n",
    "            self.query_embs, self.query_labels = LazyEmbeddings._split(self.dataset_embs, self.dataset_labels, split)\n",
    "\n",
    "        return self\n",
    "\n",
    "    def get_query(self):\n",
    "        self._check_computation()\n",
    "        return self.query\n",
    "\n",
    "    def get_query_num(self):\n",
    "        self._check_computation()\n",
    "        return self.query_num\n",
    "\n",
    "    def get_embs(self):\n",
    "        self._check_computation()\n",
    "        return self.query_embs\n",
    "\n",
    "    def get_labels(self):\n",
    "        self._check_computation()\n",
    "        return self.query_labels\n",
    "def compute_dimensionality_reduction(orig_dataset_name, embeddings_model_name, compression, query_num, embs, embs_dim_reduction, expl_var_logfile_name=\"pca_developability_explained_variance_ration.csv\"):\n",
    "    if isinstance(embs_dim_reduction, str):\n",
    "        embs_dim_reduction_name = embs_dim_reduction\n",
    "        if embs_dim_reduction_name == 'pca':\n",
    "            embs_dim_reduction = sk.decomposition.PCA(n_components=3)\n",
    "        elif embs_dim_reduction_name == 'umap':\n",
    "            embs_dim_reduction = UMAP(n_components=3)\n",
    "        else:\n",
    "            raise ValueError(\"Unkown dim. reduction strategy: \", embs_dim_reduction_name)\n",
    "\n",
    "        info(\"Fitting dimensionality reduction...\")\n",
    "        reduction = embs_dim_reduction.fit(embs)\n",
    "\n",
    "    elif callable(getattr(embs_dim_reduction, \"transform\", None)):\n",
    "        embs_dim_reduction_name = embs_dim_reduction.__class__.__name__.lower()\n",
    "        info(f\"Applying precomputed dimensionality reduction ({embs_dim_reduction_name})\")\n",
    "        reduction = embs_dim_reduction\n",
    "\n",
    "    else:\n",
    "        raise ValueError(\"Unkown dim. reduction strategy: \", embs_dim_reduction_name, \"Can only specify name or precomputed method\")\n",
    "    \n",
    "    info(\"Applying dimensionality reduction...\")\n",
    "    embs_reduced = reduction.transform(embs)\n",
    "\n",
    "    if  hasattr(reduction, \"explained_variance_ratio_\"):\n",
    "        info(\"Explained variance:\", reduction.explained_variance_ratio_)\n",
    "        log_info(expl_var_logfile_name, query_num, str(reduction.explained_variance_ratio_))\n",
    "\n",
    "    plt.scatter(embs_reduced[:,0], embs_reduced[:,1], s=.05, alpha=.4);\n",
    "    plt.show()\n",
    "\n",
    "    info(\"Saving reduced embeddings to file...\")\n",
    "\n",
    "    np.save(os.path.join(get_dataset_dir(orig_dataset_name), f\"{embs_dim_reduction_name}/{orig_dataset_name}_query-{query_num}_{embeddings_model_name}_{compression}.npy\"), embs_reduced)\n",
    "\n",
    "    return reduction, embs_reduced\n",
    "sampling_factor = 1\n",
    "def plot_metric(orig_dataset_name, embeddings_model_name, compression, embs_dim_reduction, embs_reduced, labels, curr_metric, first_axis, second_axis, grey_zone, c_plt, is_categorical):\n",
    "    metric_labels = labels[curr_metric]\n",
    "\n",
    "    if is_categorical or not is_numeric_dtype(metric_labels):\n",
    "        if metric_labels.dtype.name != \"object\":\n",
    "            metric_labels = metric_labels.astype('Int64')\n",
    "        metric_labels = metric_labels.astype('category', copy=True)\n",
    "        # print(metric_labels.unique())\n",
    "\n",
    "    metric_labels = metric_labels[::sampling_factor]\n",
    "        \n",
    "    return plot_pca(embs_reduced[::sampling_factor], metric_labels, first_axis, second_axis, invisible_zone=0., grey_zone=grey_zone, min_alpha=.05, max_alpha=.95, labels_preview=False, s=1., colormap='RdYlGn', ax=c_plt)\n",
    "\n",
    "    # except Exception as e:\n",
    "    #     # Killing exceptions to avoid interruption of long-running proces\n",
    "    #     # TODO: Add logging\n",
    "    #     error(curr_metric, \":\", e)\n",
    "    #     traceback.format_exc()\n",
    "def generate_graphs(orig_dataset_name, embeddings_model_name, compression, embs_dim_reduction, embs_reduced, labels, query_num, worker_metrics, is_categorical, queue=None, first_axis=0, second_axis=1, grey_zone = .3, background=None):\n",
    "    # Force matplotlib backend\n",
    "    import matplotlib as mpl\n",
    "    import matplotlib.pyplot as c_plt\n",
    "    mpl.use('Agg')    \n",
    "\n",
    "    if background is not None:\n",
    "        if embeddings_model_name != background.compressed_embs.embeddings_model_name or compression != background.compressed_embs.compression:\n",
    "            raise ValueError(\"Background cloud should sahre 'embeddings_model_name' and 'compression' with foreground\")\n",
    "\n",
    "    for curr_metric in tqdm(worker_metrics):\n",
    "        c_plt.figure(figsize=(6.4, 4.8))\n",
    "\n",
    "        if background is not None and curr_metric not in background.compressed_embs.get_labels().columns.values:\n",
    "            background_metric = background.compressed_embs.get_labels().columns.values[-1]\n",
    "            warn(f\"Cannot draw background for metric {curr_metric} (not found among columns). Using metric {background_metric} instead\")\n",
    "        else:\n",
    "            background_metric = curr_metric\n",
    "\n",
    "        if background is not None:\n",
    "            # Draw background\n",
    "            background._plot_metric((c_plt, c_plt), background_metric, grey_zone=1., is_categorical=is_categorical, first_axis=first_axis, second_axis=second_axis)\n",
    "\n",
    "        c_cbar = plot_metric(orig_dataset_name, embeddings_model_name, compression, embs_dim_reduction, embs_reduced, labels, curr_metric, first_axis, second_axis, grey_zone, (c_plt, c_plt), is_categorical)\n",
    "\n",
    "        if background is not None:\n",
    "            complete_dataset_name = f\"(B)_{background.compressed_embs.orig_dataset_name}_(F)_{orig_dataset_name}\"\n",
    "        else:\n",
    "            complete_dataset_name = orig_dataset_name\n",
    "\n",
    "        c_plt.gca().set_title(\n",
    "            as_title(\n",
    "                embs_dim_reduction,\n",
    "                embeddings_model_name,\n",
    "                complete_dataset_name,\n",
    "                f\"query-{query_num}\",\n",
    "                compression,\n",
    "                curr_metric,\n",
    "                first_axis, second_axis));\n",
    "        c_plt.savefig(relative_path(f\"figures/{embs_dim_reduction.__class__.__name__.lower()}/{orig_dataset_name}/\", \n",
    "            as_title(\n",
    "                embs_dim_reduction, \n",
    "                embeddings_model_name, \n",
    "                complete_dataset_name,\n",
    "                f\"query-{query_num}\",\n",
    "                compression, \n",
    "                curr_metric, \n",
    "                first_axis, second_axis, line_sep=\"-\") + \".png\"),\n",
    "                bbox_inches='tight',\n",
    "                dpi=400)\n",
    "        c_plt.savefig(relative_path(f\"figures/{embs_dim_reduction.__class__.__name__.lower()}/{orig_dataset_name}/\", \n",
    "            as_title(\n",
    "                embs_dim_reduction, \n",
    "                embeddings_model_name, \n",
    "                complete_dataset_name,\n",
    "                f\"query-{query_num}\",\n",
    "                compression, \n",
    "                curr_metric, \n",
    "                first_axis, second_axis, line_sep=\"-\") + \".pdf\"),\n",
    "                format=\"pdf\",\n",
    "                bbox_inches='tight',\n",
    "                dpi=400)\n",
    "        c_plt.show();\n",
    "\n",
    "        # TODO: Improve this\n",
    "        if c_cbar is not None:\n",
    "            c_cbar.remove()\n",
    "        \n",
    "        if queue is not None:\n",
    "            queue.put(1)\n",
    "        \n",
    "def display_metric(orig_dataset_name, embeddings_model_name, compression, query_num, embs_dim_reduction, embs_reduced, labels, metric, is_categorical=False, grey_zone = .3, background=None):\n",
    "    worker_metrics = np.array([metric])\n",
    "    generate_graphs(orig_dataset_name, embeddings_model_name, compression, embs_dim_reduction, embs_reduced, labels, query_num, worker_metrics, is_categorical, grey_zone=grey_zone, background=background)\n",
    "\n",
    "    info(\"Graph successfully generated\")\n",
    "def display_all_metrics(orig_dataset_name, embeddings_model_name, compression, query_num, embs_dim_reduction, embs_reduced, labels, is_categorical=False, grey_zone = .3, background=None, first_axis=0, second_axis=1, parallel_exec=True):\n",
    "    info(\"Automatically inferring the metrics used to produce graphs\")\n",
    "    metric_names = labels.columns.values[pd.Series(labels.columns.values).str.extract(\"(AbOrig|AbChain|AbStruc).*\").notna().values.ravel()]\n",
    "\n",
    "    if parallel_exec:\n",
    "        workers_num = mp.cpu_count()\n",
    "        worker_metrics = np.array_split(metric_names, workers_num)\n",
    "\n",
    "        manager = Manager()\n",
    "        queue = manager.Queue(maxsize=2*workers_num)\n",
    "\n",
    "        with mp.Pool() as p:\n",
    "            info(f\"Launching parallel graph generation ({workers_num} processes)...\")\n",
    "            _ = p.starmap_async(generate_graphs, [(orig_dataset_name, embeddings_model_name, compression, embs_dim_reduction, embs_reduced, labels, query_num, metric, is_categorical, queue, first_axis, second_axis, grey_zone, background) for metric in worker_metrics])\n",
    "\n",
    "            for _ in tqdm(range(metric_names.shape[0])):\n",
    "                queue.get()\n",
    "    else:\n",
    "        info(\"Parallel generation of graphs disabled. Proceeding sequentially...\")\n",
    "        generate_graphs(orig_dataset_name, embeddings_model_name, compression, embs_dim_reduction, embs_reduced, labels, query_num, metric_names, is_categorical, None, first_axis, second_axis, grey_zone, background)\n",
    "\n",
    "    info(\"Graphs successfully generated\")\n",
    "class ProjectedEmbeddings:\n",
    "    def __init__(self, compressed_embs: LazyEmbeddings):\n",
    "        self.compressed_embs = compressed_embs\n",
    "\n",
    "        self.reduction = None\n",
    "        self.reduced_embs = None\n",
    "\n",
    "    def project(self, dim_reduction):\n",
    "        self.reduction, self.reduced_embs = compute_dimensionality_reduction(\n",
    "            self.compressed_embs.orig_dataset_name,\n",
    "            self.compressed_embs.embeddings_model_name,\n",
    "            self.compressed_embs.compression, \n",
    "            self.compressed_embs.query_num,\n",
    "            self.compressed_embs.get_embs(), \n",
    "            dim_reduction,\n",
    "            expl_var_logfile_name=f\"pca_{self.compressed_embs.orig_dataset_name}_{self.compressed_embs.embeddings_model_name}_explained_variance_ration.csv\"\n",
    "        )\n",
    "\n",
    "        return self\n",
    "\n",
    "    def _check_projection(self):\n",
    "        if self.reduction is None:\n",
    "            raise ValueError(\"Must project the embeddings first, before plotting them on a graph\")\n",
    "\n",
    "    def get_reduction(self):\n",
    "        self._check_projection()\n",
    "        return self.reduction\n",
    "\n",
    "    def get_reduced_embs(self):\n",
    "        self._check_projection()\n",
    "        return self.reduced_embs\n",
    "\n",
    "    def get_reduction_name(self):\n",
    "        self._check_projection()\n",
    "\n",
    "        return self.reduction.__class__.__name__.lower()\n",
    "\n",
    "    def _plot_metric(self, c_plt, metric_name, grey_zone, is_categorical, first_axis=0, second_axis=1):\n",
    "        self._check_projection()\n",
    "        return plot_metric(\n",
    "            self.compressed_embs.orig_dataset_name,\n",
    "            self.compressed_embs.embeddings_model_name,\n",
    "            self.compressed_embs.compression,\n",
    "            self.reduction,\n",
    "            self.reduced_embs,\n",
    "            self.compressed_embs.get_labels(),\n",
    "            metric_name,\n",
    "            first_axis,\n",
    "            second_axis,\n",
    "            grey_zone,\n",
    "            c_plt,\n",
    "            is_categorical\n",
    "        )\n",
    "\n",
    "    def display(self, metric, is_categorical=False, grey_zone=.3, background=None):\n",
    "        self._check_projection()\n",
    "        display_metric(\n",
    "            self.compressed_embs.orig_dataset_name,\n",
    "            self.compressed_embs.embeddings_model_name,\n",
    "            self.compressed_embs.compression,\n",
    "            self.compressed_embs.query_num,\n",
    "            self.reduction,\n",
    "            self.reduced_embs,\n",
    "            self.compressed_embs.get_labels(),\n",
    "            metric,\n",
    "            is_categorical,\n",
    "            grey_zone,\n",
    "            background\n",
    "        )\n",
    "\n",
    "        return self\n",
    "\n",
    "    def list_metrics(self):\n",
    "        return self.compressed_embs.get_labels().columns.values[pd.Series(self.compressed_embs.get_labels().columns.values).str.extract(\"(AbOrig|AbChain|AbStruc).*\").notna().values.ravel()]\n",
    "\n",
    "    def compare(self, other, metric_name, is_categorical=False, grey_zone=.3):\n",
    "        tot_size_x, tot_size_y = (2*6.4 + 2*.3, 4.8)\n",
    "        def _rel(x, y):\n",
    "            return x/tot_size_x, y/tot_size_y\n",
    "\n",
    "        fig = plt.figure(figsize=(tot_size_x, tot_size_y))\n",
    "        \n",
    "        ax_other = fig.add_axes((0, 0) + _rel(6.4, 4.8))\n",
    "        other_cbar = other._plot_metric((fig, ax_other), metric_name, grey_zone=grey_zone, is_categorical=is_categorical)\n",
    "\n",
    "        if other_cbar is not None:\n",
    "            ax_cbar_other = fig.add_axes(_rel(6.4-1.1, 0) + _rel(.2, 4.8))\n",
    "            fig.colorbar(other_cbar.mappable, cax=ax_cbar_other, spacing=\"proportional\")\n",
    "            other_cbar.remove()\n",
    "        else:\n",
    "            ax_other.get_legend()\n",
    "        \n",
    "        ax_this = fig.add_axes(_rel(6.4+.2, 0) + _rel(6.4, 4.8))\n",
    "        other._plot_metric((fig, ax_this), metric_name, grey_zone=1., is_categorical=is_categorical)\n",
    "        self_cbar = self._plot_metric((fig, ax_this), metric_name, grey_zone=grey_zone, is_categorical=is_categorical)\n",
    "\n",
    "        if self_cbar is not None:\n",
    "            ax_cbar_this = fig.add_axes(_rel(2*6.4+.2-1.1, 0) + _rel(.2, 4.8))\n",
    "            fig.colorbar(self_cbar.mappable, cax=ax_cbar_this, spacing=\"proportional\")\n",
    "            self_cbar.remove()\n",
    "\n",
    "        ax_other.set_title(\n",
    "            as_title(\n",
    "                other.reduction,\n",
    "                other.compressed_embs.embeddings_model_name,\n",
    "                other.compressed_embs.orig_dataset_name,\n",
    "                f\"query-{other.compressed_embs.query_num}\",\n",
    "                other.compressed_embs.compression,\n",
    "                metric_name,\n",
    "                0, 1));\n",
    "\n",
    "        complete_dataset_name = f\"(B)_{other.compressed_embs.orig_dataset_name}_(F)_{self.compressed_embs.orig_dataset_name}\"\n",
    "        ax_this.set_title(\n",
    "            as_title(\n",
    "                self.reduction,\n",
    "                self.compressed_embs.embeddings_model_name,\n",
    "                complete_dataset_name,\n",
    "                f\"query-{self.compressed_embs.query_num}\",\n",
    "                self.compressed_embs.compression,\n",
    "                metric_name,\n",
    "                0, 1));\n",
    "        fig.savefig(relative_path(f\"figures/{self.reduction.__class__.__name__.lower()}/comparison/\", \n",
    "            as_title(\n",
    "                self.reduction, \n",
    "                self.compressed_embs.embeddings_model_name, \n",
    "                f\"{other.compressed_embs.orig_dataset_name}_vs_{self.compressed_embs.orig_dataset_name}\",\n",
    "                f\"queries-{other.compressed_embs.query_num},{self.compressed_embs.query_num}\",\n",
    "                self.compressed_embs.compression, \n",
    "                metric_name, \n",
    "                0, 1, line_sep=\"-\") + \".png\"),\n",
    "                bbox_inches='tight',\n",
    "                dpi=400)\n",
    "\n",
    "        fig.show();\n",
    "\n",
    "        return self\n",
    "\n",
    "    def display_all(self, grey_zone=.3, background=None, parallel_exec=True):\n",
    "        self._check_projection()\n",
    "        display_all_metrics(\n",
    "            self.compressed_embs.orig_dataset_name,\n",
    "            self.compressed_embs.embeddings_model_name,\n",
    "            self.compressed_embs.compression,\n",
    "            self.compressed_embs.query_num,\n",
    "            self.reduction,\n",
    "            self.reduced_embs,\n",
    "            self.compressed_embs.get_labels(),\n",
    "            False,\n",
    "            grey_zone,\n",
    "            background,\n",
    "            parallel_exec=parallel_exec\n",
    "        )\n",
    "\n",
    "        return self\n",
    "\n",
    "    def inspect(self, columns=None, save_dir='views'):\n",
    "        self._check_projection()\n",
    "\n",
    "        chk_base_name = f\"{self.get_reduction_name()}_{self.compressed_embs.orig_dataset_name}_query-{self.compressed_embs.query_num}_{self.compressed_embs.embeddings_model_name}_{self.compressed_embs.compression}\"\n",
    "        proj_embs_var = tf.Variable(self.reduced_embs, name=chk_base_name)\n",
    "        proj_embs_chk = tf.train.Checkpoint(embedding=proj_embs_var)\n",
    "        \n",
    "        chk_path = save_dir\n",
    "        if not os.path.exists(chk_path):\n",
    "            os.mkdir(chk_path)\n",
    "\n",
    "        chk_name = chk_base_name + \".ckpt\"\n",
    "        proj_embs_chk.save(os.path.join(chk_path, chk_name))\n",
    "\n",
    "        if columns is None:\n",
    "            points_labels = self.compressed_embs.get_labels()\n",
    "        else:\n",
    "            points_labels = self.compressed_embs.get_labels()[columns]\n",
    "\n",
    "        graph_labels_filename = f\"{self.compressed_embs.orig_dataset_name}_graph_labels.tsv\"\n",
    "        points_labels.to_csv(os.path.join(save_dir, graph_labels_filename), \"\\t\")\n",
    "\n",
    "        config = projector.ProjectorConfig()\n",
    "        embs_config = config.embeddings.add()\n",
    "        embs_config.tensor_name = \"embeddings\"\n",
    "        embs_config.metadata_path = graph_labels_filename\n",
    "\n",
    "        projector.visualize_embeddings(save_dir, config)\n",
    "        %load_ext tensorboard\n",
    "        abs_save_dir = os.path.join(os.path.abspath(\".\"), save_dir)\n",
    "        %tensorboard --logdir $abs_save_dir\n",
    "def inspect(self, columns=None, save_dir='views'):\n",
    "    self._check_projection()\n",
    "\n",
    "    rand_idxs = np.random.permutation(self.reduced_embs.shape[0])[:50000]\n",
    "\n",
    "    chk_base_name = f\"{self.get_reduction_name()}_{self.compressed_embs.orig_dataset_name}_query-{self.compressed_embs.query_num}_{self.compressed_embs.embeddings_model_name}_{self.compressed_embs.compression}\"\n",
    "    proj_embs_var = tf.Variable(self.reduced_embs[rand_idxs].astype('float32'), name=chk_base_name)\n",
    "    proj_embs_chk = tf.train.Checkpoint(embedding=proj_embs_var)\n",
    "    \n",
    "    chk_path = save_dir\n",
    "    if not os.path.exists(chk_path):\n",
    "        os.mkdir(chk_path)\n",
    "\n",
    "    chk_name = chk_base_name + \".ckpt\"\n",
    "    proj_embs_chk.save(os.path.join(chk_path, chk_name))\n",
    "\n",
    "    print(os.path.join(chk_path, chk_name))\n",
    "\n",
    "    if columns is None:\n",
    "        all_columns = self.compressed_embs.get_labels().columns\n",
    "        points_labels = self.compressed_embs.get_labels()[all_columns[all_columns.str.contains(r\"(AbOrig|AbChain|AbStruc)\")].values]\n",
    "    else:\n",
    "        points_labels = self.compressed_embs.get_labels()[columns]\n",
    "\n",
    "    points_labels = points_labels.iloc[rand_idxs]\n",
    "\n",
    "    graph_labels_filename = f\"{self.compressed_embs.orig_dataset_name}_graph_labels.tsv\"\n",
    "    points_labels.reset_index(drop=True).to_csv(os.path.join(save_dir, graph_labels_filename), \"\\t\")\n",
    "\n",
    "    assert points_labels.shape[0] == proj_embs_var.shape[0]\n",
    "\n",
    "    print(os.path.join(save_dir, graph_labels_filename))\n",
    "\n",
    "    config = projector.ProjectorConfig()\n",
    "    embs_config = config.embeddings.add()\n",
    "    embs_config.tensor_name = \"embedding/.ATTRIBUTES/VARIABLE_VALUE\"\n",
    "    embs_config.metadata_path = graph_labels_filename\n",
    "\n",
    "    abs_save_dir = os.path.join(os.path.abspath(\".\"), save_dir)\n",
    "    print(abs_save_dir)\n",
    "    projector.visualize_embeddings(abs_save_dir, config)\n",
    "    %reload_ext tensorboard\n",
    "    %tensorboard --logdir $abs_save_dir --reload_multifile true\n",
    "def norm_features(feats, means=None, stds=None):\n",
    "    if means is None:\n",
    "        means = feats.mean(axis=0)\n",
    "    \n",
    "    if stds is None:\n",
    "        stds = feats.std(axis=0)\n",
    "\n",
    "    return (feats - means) / stds, means, stds"
   ]
  },
  {
   "cell_type": "code",
   "execution_count": 4,
   "metadata": {},
   "outputs": [],
   "source": [
    "## Select chain type and species\n",
    "chain_type = \"light\"\n",
    "orig_species = \"human\""
   ]
  },
  {
   "cell_type": "code",
   "execution_count": 5,
   "metadata": {},
   "outputs": [],
   "source": [
    "mwds_names = pd.read_csv(\"reproducibility/mwds_names.csv\").columns.to_numpy()\n",
    "complete_mwds_names = np.array([\"AbChain_14_charge\", \"AbChain_acidic_content\", \"AbChain_aliphatic_content\", \"AbChain_aromatic_content\", \"AbChain_hmom\", \"AbChain_hydrophobicity\", \"AbChain_instaindex\", \"AbChain_molextcoef\", \"AbChain_nonpolar_content\", \"AbChain_small_content\", \"AbChain_solubility\", \"AbStruc_alpha_helices\", \"AbStruc_aromatic_interactions\", \"AbStruc_atom_plane_sum\", \"AbStruc_beta_bends\", \"AbStruc_beta_bridges\", \"AbStruc_beta_strands\", \"AbStruc_beta_turns\", \"AbStruc_carbonyl_interactions\", \"AbStruc_covbonds\", \"AbStruc_cys_bridges\", \"AbStruc_donor_pi_interactions\", \"AbStruc_folded_pI\", \"AbStruc_folding_energy\", \"AbStruc_free_cys\", \"AbStruc_hbonds\", \"AbStruc_ibonds\", \"AbStruc_loops\", \"AbStruc_ncharge_hetrgen\", \"AbStruc_pbonds\", \"AbStruc_pcharge_hetrgen\", \"AbStruc_phi_angle\", \"AbStruc_pi_helices\", \"AbStruc_plane_group_interactions\", \"AbStruc_psi_angle\", \"AbStruc_sasa\", \"AbStruc_steric_clashes\", \"AbStruc_vdw_clashes\", \"AbStruc_vdw_interactions\", \"AbStruc_weak_hbonds\"])"
   ]
  },
  {
   "cell_type": "code",
   "execution_count": 6,
   "metadata": {},
   "outputs": [],
   "source": [
    "add_idx = np.where(complete_mwds_names == np.setdiff1d(complete_mwds_names, mwds_names)[0])[0]\n",
    "add_mask = np.ones(complete_mwds_names.shape[0]).astype(bool)\n",
    "add_mask[add_idx] = False"
   ]
  },
  {
   "attachments": {},
   "cell_type": "markdown",
   "metadata": {},
   "source": [
    "# Compare Abs fingerprints"
   ]
  },
  {
   "attachments": {},
   "cell_type": "markdown",
   "metadata": {},
   "source": [
    "## Fit PLM projection"
   ]
  },
  {
   "cell_type": "code",
   "execution_count": 7,
   "metadata": {},
   "outputs": [],
   "source": [
    "# native_embs = LazyEmbeddings(\"developability\", \"esm-1v-1\", \"bos\", pd.read_csv(os.path.join(get_dataset_dir(\"developability\"), \"developability.csv\"))).compute(f\"chain_type == '{chain_type}' and AbOrig_species == '{orig_species}'\").split()"
   ]
  },
  {
   "cell_type": "code",
   "execution_count": 8,
   "metadata": {},
   "outputs": [],
   "source": [
    "# native_proj = ProjectedEmbeddings(native_embs).project('pca')\n",
    "# joblib.dump(native_proj.reduction, f\"reproducibility/v3_{chain_type}-{orig_species}-full_native_pca.joblib\")"
   ]
  },
  {
   "attachments": {},
   "cell_type": "markdown",
   "metadata": {},
   "source": [
    "## Create PLM and MWDS projections"
   ]
  },
  {
   "cell_type": "code",
   "execution_count": 9,
   "metadata": {},
   "outputs": [
    {
     "name": "stderr",
     "output_type": "stream",
     "text": [
      "/home/ec2-user/ml-binding/lib64/python3.7/site-packages/sklearn/base.py:338: UserWarning: Trying to unpickle estimator PCA from version 1.1.1 when using version 1.0.2. This might lead to breaking code or invalid results. Use at your own risk. For more info please refer to:\n",
      "https://scikit-learn.org/stable/modules/model_persistence.html#security-maintainability-limitations\n",
      "  UserWarning,\n"
     ]
    }
   ],
   "source": [
    "plm_pca = joblib.load(f\"reproducibility/v3_{chain_type}-{orig_species}-full_native_pca.joblib\")"
   ]
  },
  {
   "cell_type": "code",
   "execution_count": 10,
   "metadata": {},
   "outputs": [],
   "source": [
    "native_labels = pd.read_csv(os.path.join(get_dataset_dir(\"developability\"), \"developability.csv\"))"
   ]
  },
  {
   "cell_type": "code",
   "execution_count": 11,
   "metadata": {},
   "outputs": [
    {
     "data": {
      "text/plain": [
       "(385633, 39)"
      ]
     },
     "execution_count": 11,
     "metadata": {},
     "output_type": "execute_result"
    }
   ],
   "source": [
    "all_native_mwds_embs = np.load(os.path.join(get_dataset_dir(\"developability\"), f\"developability_mwds_seq.npy\"))\n",
    "selected_idxs = native_labels.query(f\"AbOrig_species == '{orig_species}' and chain_type == '{chain_type}'\").index\n",
    "\n",
    "native_mwds_embs = all_native_mwds_embs[selected_idxs][:,add_mask]\n",
    "native_mwds_embs.shape"
   ]
  },
  {
   "cell_type": "code",
   "execution_count": 12,
   "metadata": {},
   "outputs": [],
   "source": [
    "# # Fit MWDS pca\n",
    "# mwds_pca = sk.decomposition.PCA(2)\n",
    "# mwds_pca.fit(native_mwds_embs)\n",
    "\n",
    "# joblib.dump(mwds_pca, f\"reproducibility/v3_{chain_type}-{orig_species}-native_mwds_pca.joblib\")"
   ]
  },
  {
   "cell_type": "code",
   "execution_count": 13,
   "metadata": {},
   "outputs": [],
   "source": [
    "mwds_pca = joblib.load(f\"reproducibility/v3_{chain_type}-{orig_species}-native_mwds_pca.joblib\")"
   ]
  },
  {
   "cell_type": "code",
   "execution_count": 14,
   "metadata": {},
   "outputs": [],
   "source": [
    "files_prefix = f\"reproducibility/v3_{chain_type}-{orig_species}\"\n",
    "def as_metadata(dataset_name):\n",
    "    return f\"{files_prefix}-{dataset_name}_metadata.csv\"\n",
    "\n",
    "def as_plm_proj(dataset_name):\n",
    "    return f\"{files_prefix}-{dataset_name}_esm-1v-1_proj.npy\"\n",
    "\n",
    "def as_mwds_proj(dataset_name):\n",
    "    return f\"{files_prefix}-{dataset_name}_mwds_proj.npy\""
   ]
  },
  {
   "attachments": {},
   "cell_type": "markdown",
   "metadata": {},
   "source": [
    "## Preprocessing\n",
    "#### Prepare **Kymouse** dataset (run ONLY for human heavy chains)"
   ]
  },
  {
   "cell_type": "code",
   "execution_count": null,
   "metadata": {},
   "outputs": [],
   "source": [
    "assert chain_type == \"heavy\" and orig_species == \"human\"\n",
    "\n",
    "# Save metadata\n",
    "kymouse_dataset_name = \"developability-humanised\"\n",
    "pd.read_csv(os.path.join(get_dataset_dir(kymouse_dataset_name), f\"{kymouse_dataset_name}.csv\")).to_csv(as_metadata(kymouse_dataset_name))\n",
    "np.save(as_mwds_proj(kymouse_dataset_name), mwds_pca.transform(np.load(os.path.join(get_dataset_dir(kymouse_dataset_name), f\"{kymouse_dataset_name}_mwds_seq.npy\"))[:,add_mask]))\n",
    "\n",
    "# # Concatenate orig embs into single file\n",
    "# concat_embs = np.concatenate([np.load(os.path.join(get_dataset_dir(\"developability_humanised\"), f\"developability-humanised_esm-1v-1_bos_p{i}.npz\"))['arr_0'] for i in range(26)], axis=0)\n",
    "# np.save(os.path.join(get_dataset_dir(\"developability-humanised\"), \"developability-humanised_esm-1v-1_bos.npy\"), concat_embs)\n",
    "\n",
    "humanised_plm_embs = np.load(os.path.join(get_dataset_dir(kymouse_dataset_name), f\"{kymouse_dataset_name}_esm-1v-1_bos.npy\"))\n",
    "humanised_plm_proj = plm_pca.transform(humanised_plm_embs)\n",
    "np.save(as_plm_proj(kymouse_dataset_name), humanised_plm_proj)"
   ]
  },
  {
   "attachments": {},
   "cell_type": "markdown",
   "metadata": {},
   "source": [
    "#### Prepare **PAD** embeddings (dataset **NOT** included in public repo: do not run)"
   ]
  },
  {
   "cell_type": "code",
   "execution_count": null,
   "metadata": {},
   "outputs": [],
   "source": [
    "####\n",
    "# Redacted code\n",
    "####"
   ]
  },
  {
   "attachments": {},
   "cell_type": "markdown",
   "metadata": {},
   "source": [
    "### Prepare **native** abs"
   ]
  },
  {
   "cell_type": "code",
   "execution_count": 17,
   "metadata": {},
   "outputs": [],
   "source": [
    "native_dataset_name = \"developability\"\n",
    "native_labels = pd.read_csv(os.path.join(get_dataset_dir(native_dataset_name), f\"{native_dataset_name}.csv\"))\n",
    "human_native_labels = native_labels.query(f\"AbOrig_species == '{orig_species}' and chain_type == '{chain_type}'\")"
   ]
  },
  {
   "cell_type": "code",
   "execution_count": 18,
   "metadata": {},
   "outputs": [],
   "source": [
    "# Specify here subsampling, to speed-up the computation\n",
    "native_idxs = human_native_labels.index.to_numpy()\n",
    "np.random.shuffle(native_idxs)\n",
    "native_idxs = np.sort(native_idxs)"
   ]
  },
  {
   "cell_type": "code",
   "execution_count": 23,
   "metadata": {},
   "outputs": [
    {
     "name": "stdout",
     "output_type": "stream",
     "text": [
      "[INFO] Selected 100.0% of samples (2036789)\n",
      "[INFO] Query found in cache (#0): 'chain_type != '''\n",
      "[INFO] Found known compressed labels\n",
      "[INFO] Computing query from compressed embeddings\n",
      "[INFO] Caching queried embeddings...\n"
     ]
    }
   ],
   "source": [
    "native_embs = LazyEmbeddings(\"developability\", \"esm-1v-1\", \"bos\", native_labels).compute(\"chain_type != ''\").split(native_idxs)"
   ]
  },
  {
   "cell_type": "code",
   "execution_count": 24,
   "metadata": {},
   "outputs": [],
   "source": [
    "native_embs.get_labels().to_csv(as_metadata(\"developability\"))"
   ]
  },
  {
   "cell_type": "code",
   "execution_count": 25,
   "metadata": {},
   "outputs": [],
   "source": [
    "np.save(as_plm_proj(\"developability\"), plm_pca.transform(native_embs.get_embs()))"
   ]
  },
  {
   "cell_type": "code",
   "execution_count": 26,
   "metadata": {},
   "outputs": [
    {
     "name": "stdout",
     "output_type": "stream",
     "text": [
      "[INFO] Selected 100.0% of samples (2036789)\n",
      "[INFO] Current query registered as #0\n",
      "[INFO] Found known compressed labels\n",
      "[INFO] Computing query from compressed embeddings\n",
      "[INFO] Caching queried embeddings...\n"
     ]
    }
   ],
   "source": [
    "native_mwds_embs = LazyEmbeddings(\"developability\", \"mwds\", \"seq\", native_labels).compute(\"chain_type != ''\").split(native_idxs)"
   ]
  },
  {
   "cell_type": "code",
   "execution_count": 27,
   "metadata": {},
   "outputs": [],
   "source": [
    "np.save(as_mwds_proj(\"developability\"), mwds_pca.transform(native_mwds_embs.get_embs()[:,add_mask]))"
   ]
  },
  {
   "attachments": {},
   "cell_type": "markdown",
   "metadata": {},
   "source": [
    "### Prepare **thera** abs"
   ]
  },
  {
   "cell_type": "code",
   "execution_count": 28,
   "metadata": {},
   "outputs": [],
   "source": [
    "thera_dataset_name = \"developability-thera\"\n",
    "full_thera_labels = pd.read_csv(os.path.join(get_dataset_dir(thera_dataset_name), f\"{thera_dataset_name}.csv\"))\n",
    "subsampling_thera_idxs = full_thera_labels.query(f\"chain_type == '{chain_type}' and AbOrig_species == '{orig_species}'\").index.to_numpy()"
   ]
  },
  {
   "cell_type": "code",
   "execution_count": 29,
   "metadata": {},
   "outputs": [],
   "source": [
    "full_thera_labels.loc[subsampling_thera_idxs].to_csv(as_metadata(\"developability-thera\"))"
   ]
  },
  {
   "cell_type": "code",
   "execution_count": 30,
   "metadata": {},
   "outputs": [],
   "source": [
    "thera_mwds = np.load(os.path.join(get_dataset_dir(\"developability-thera\"), \"developability-thera_mwds_seq.npy\"))[subsampling_thera_idxs]"
   ]
  },
  {
   "cell_type": "code",
   "execution_count": 31,
   "metadata": {},
   "outputs": [],
   "source": [
    "thera_embs = np.load(os.path.join(get_dataset_dir(\"developability-thera\"), \"developability-thera_esm-1v-1_bos.npy\"))[subsampling_thera_idxs]\n",
    "\n",
    "np.save(as_mwds_proj(\"developability-thera\"), mwds_pca.transform(thera_mwds))\n",
    "np.save(as_plm_proj(\"developability-thera\"), plm_pca.transform(thera_embs))"
   ]
  },
  {
   "attachments": {},
   "cell_type": "markdown",
   "metadata": {},
   "source": [
    "## Analysis"
   ]
  },
  {
   "cell_type": "code",
   "execution_count": 32,
   "metadata": {},
   "outputs": [],
   "source": [
    "# pad_mwds_proj = np.load(as_mwds_proj(\"developability-patented\"))\n",
    "thera_mwds_proj = np.load(as_mwds_proj(\"developability-thera\"))\n",
    "native_mwds_proj = np.load(as_mwds_proj(\"developability\"))\n",
    "\n",
    "if chain_type == \"heavy\":\n",
    "    humanised_mwds_proj = np.load(as_mwds_proj(\"developability-humanised\"))"
   ]
  },
  {
   "cell_type": "code",
   "execution_count": 33,
   "metadata": {},
   "outputs": [],
   "source": [
    "# Load PLM projected embs\n",
    "# pad_plm_proj = np.load(as_plm_proj(\"developability-patented\"))\n",
    "thera_plm_proj = np.load(as_plm_proj(\"developability-thera\"))\n",
    "native_plm_proj = np.load(as_plm_proj(\"developability\"))\n",
    "\n",
    "if chain_type == \"heavy\":\n",
    "    humanised_plm_proj = np.load(as_plm_proj(\"developability-humanised\"))"
   ]
  },
  {
   "cell_type": "code",
   "execution_count": 34,
   "metadata": {},
   "outputs": [],
   "source": [
    "def draw_native_ab_support(native):\n",
    "    if isinstance(native, np.ndarray):\n",
    "        feats = native\n",
    "    else:\n",
    "        feats = native.get_reduced_embs()\n",
    "    plt.scatter(*feats.T[:2], alpha=1., s=.01, color=\"black\", label=\"Native\")\n",
    "    plt.axis(\"equal\")"
   ]
  },
  {
   "cell_type": "code",
   "execution_count": 35,
   "metadata": {},
   "outputs": [],
   "source": [
    "def draw_foreground_ab(ab, color=\"#c9a847\", **kwargs):\n",
    "    if isinstance(ab, np.ndarray):\n",
    "        feats = ab\n",
    "    else:\n",
    "        feats = ab.get_reduced_embs()\n",
    "    kwargs['s'] = kwargs.get('s', .5)\n",
    "    plt.scatter(*feats.T[:2], color=color, **kwargs)"
   ]
  },
  {
   "attachments": {},
   "cell_type": "markdown",
   "metadata": {},
   "source": [
    "### PLM embedding"
   ]
  },
  {
   "cell_type": "code",
   "execution_count": 36,
   "metadata": {},
   "outputs": [],
   "source": [
    "def format_graph(emb_type):\n",
    "    if emb_type == \"plm\":\n",
    "        plt.title(f\"{orig_species.capitalize()}+{chain_type.capitalize()} | ESM-1v-1\");\n",
    "        plt.xlabel(f\"PC1 ({plm_pca.explained_variance_ratio_[0]:.2f})\");\n",
    "        plt.ylabel(f\"PC2 ({plm_pca.explained_variance_ratio_[1]:.2f})\");\n",
    "    elif emb_type == \"mwds\":\n",
    "        plt.title(f\"{orig_species.capitalize()}+{chain_type.capitalize()} | MWDS\");\n",
    "        plt.xlabel(f\"PC1 ({mwds_pca.explained_variance_ratio_[0]:.2f})\");\n",
    "        plt.ylabel(f\"PC2 ({mwds_pca.explained_variance_ratio_[1]:.2f})\");\n",
    "    plt.legend();\n",
    "    plt.xticks([]);\n",
    "    plt.yticks([]);"
   ]
  },
  {
   "cell_type": "code",
   "execution_count": 37,
   "metadata": {},
   "outputs": [
    {
     "data": {
      "image/png": "[encoded data removed]",
      "text/plain": [
       "<Figure size 432x288 with 1 Axes>"
      ]
     },
     "metadata": {},
     "output_type": "display_data"
    }
   ],
   "source": [
    "draw_native_ab_support(native_plm_proj)\n",
    "format_graph(emb_type=\"plm\")\n",
    "plt.savefig(f\"reproducibility/v3_plm_{chain_type}-{orig_species}-native.png\", dpi=600)"
   ]
  },
  {
   "cell_type": "code",
   "execution_count": null,
   "metadata": {},
   "outputs": [
    {
     "data": {
      "image/png": "[encoded data removed]",
      "text/plain": [
       "<Figure size 432x288 with 1 Axes>"
      ]
     },
     "metadata": {},
     "output_type": "display_data"
    }
   ],
   "source": [
    "draw_native_ab_support(native_plm_proj)\n",
    "draw_foreground_ab(thera_plm_proj, s=1.5, color=\"#c10600\", label=\"Therapeutic\")\n",
    "format_graph(emb_type=\"plm\")\n",
    "plt.savefig(f\"reproducibility/v3_plm_{chain_type}-{orig_species}-therapeutic.png\", dpi=600)"
   ]
  },
  {
   "cell_type": "code",
   "execution_count": null,
   "metadata": {},
   "outputs": [
    {
     "data": {
      "image/png": "[encoded data removed]",
      "text/plain": [
       "<Figure size 432x288 with 1 Axes>"
      ]
     },
     "metadata": {},
     "output_type": "display_data"
    }
   ],
   "source": [
    "# draw_native_ab_support(native_plm_proj)\n",
    "# draw_foreground_ab(pad_plm_proj, color=\"#c9a847\", label=\"PAD\")\n",
    "# format_graph(emb_type=\"plm\")\n",
    "# plt.savefig(f\"reproducibility/v3_plm_{chain_type}-{orig_species}-pad.png\", dpi=600)"
   ]
  },
  {
   "cell_type": "code",
   "execution_count": null,
   "metadata": {},
   "outputs": [],
   "source": [
    "if chain_type == \"heavy\":\n",
    "    draw_native_ab_support(native_plm_proj)\n",
    "    draw_foreground_ab(humanised_plm_proj, color=\"#00545d\", label=\"Humanised\")\n",
    "    format_graph(emb_type=\"plm\")\n",
    "    plt.savefig(f\"reproducibility/v3_plm_{chain_type}-{orig_species}-humanised.png\", dpi=600)"
   ]
  },
  {
   "cell_type": "code",
   "execution_count": null,
   "metadata": {},
   "outputs": [
    {
     "data": {
      "image/png": "[encoded data removed]",
      "text/plain": [
       "<Figure size 432x288 with 1 Axes>"
      ]
     },
     "metadata": {},
     "output_type": "display_data"
    }
   ],
   "source": [
    "draw_native_ab_support(native_plm_proj)\n",
    "draw_foreground_ab(thera_plm_proj, s=1.5, color=\"#83ab8c\", label=\"Non-native\")\n",
    "# draw_foreground_ab(pad_plm_proj, color=\"#83ab8c\")\n",
    "if chain_type == \"heavy\":\n",
    "    draw_foreground_ab(humanised_plm_proj, color=\"#83ab8c\")\n",
    "format_graph(emb_type=\"plm\")\n",
    "plt.savefig(f\"reproducibility/v3_plm_{chain_type}-{orig_species}-all.png\", dpi=600)"
   ]
  },
  {
   "attachments": {},
   "cell_type": "markdown",
   "metadata": {},
   "source": [
    "### Developability profile embedding"
   ]
  },
  {
   "cell_type": "code",
   "execution_count": null,
   "metadata": {},
   "outputs": [
    {
     "data": {
      "image/png": "[encoded data removed]",
      "text/plain": [
       "<Figure size 432x288 with 1 Axes>"
      ]
     },
     "metadata": {},
     "output_type": "display_data"
    }
   ],
   "source": [
    "draw_native_ab_support(native_mwds_proj)\n",
    "format_graph(emb_type=\"mwds\")\n",
    "plt.savefig(f\"reproducibility/v3_mwds_{chain_type}-{orig_species}-native.png\", dpi=600)"
   ]
  },
  {
   "cell_type": "code",
   "execution_count": null,
   "metadata": {},
   "outputs": [
    {
     "data": {
      "image/png": "[encoded data removed]",
      "text/plain": [
       "<Figure size 432x288 with 1 Axes>"
      ]
     },
     "metadata": {},
     "output_type": "display_data"
    }
   ],
   "source": [
    "draw_native_ab_support(native_mwds_proj)\n",
    "draw_foreground_ab(thera_mwds_proj, s=1.5, color=\"#c10600\", label=\"Therapeutic\")\n",
    "format_graph(emb_type=\"mwds\")\n",
    "plt.savefig(f\"reproducibility/v3_mwds_{chain_type}-{orig_species}-therapeutic.png\", dpi=600)"
   ]
  },
  {
   "cell_type": "code",
   "execution_count": null,
   "metadata": {},
   "outputs": [
    {
     "data": {
      "image/png": "[encoded data removed]",
      "text/plain": [
       "<Figure size 432x288 with 1 Axes>"
      ]
     },
     "metadata": {},
     "output_type": "display_data"
    }
   ],
   "source": [
    "# draw_native_ab_support(native_mwds_proj)\n",
    "# draw_foreground_ab(pad_mwds_proj, color=\"#c9a847\", label=\"PAD\")\n",
    "# format_graph(emb_type=\"mwds\")\n",
    "# plt.savefig(f\"reproducibility/v3_mwds_{chain_type}-{orig_species}-pad.png\", dpi=600)"
   ]
  },
  {
   "cell_type": "code",
   "execution_count": null,
   "metadata": {},
   "outputs": [],
   "source": [
    "if chain_type == \"heavy\":\n",
    "    draw_native_ab_support(native_mwds_proj)\n",
    "    draw_foreground_ab(humanised_mwds_proj, color=\"#00545d\", label=\"Humanised\")\n",
    "    format_graph(emb_type=\"mwds\")\n",
    "    plt.savefig(f\"reproducibility/v3_mwds_{chain_type}-{orig_species}-humanised.png\", dpi=600)"
   ]
  }
 ],
 "metadata": {
  "kernelspec": {
   "display_name": "Python 3",
   "language": "python",
   "name": "python3"
  },
  "language_info": {
   "codemirror_mode": {
    "name": "ipython",
    "version": 3
   },
   "file_extension": ".py",
   "mimetype": "text/x-python",
   "name": "python",
   "nbconvert_exporter": "python",
   "pygments_lexer": "ipython3",
   "version": "3.7.10"
  },
  "orig_nbformat": 4,
  "vscode": {
   "interpreter": {
    "hash": "949777d72b0d2535278d3dc13498b2535136f6dfe0678499012e853ee9abcab1"
   }
  }
 },
 "nbformat": 4,
 "nbformat_minor": 2
}
